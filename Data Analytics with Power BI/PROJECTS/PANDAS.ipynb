{
 "cells": [
  {
   "cell_type": "code",
   "execution_count": 2,
   "id": "f253906c-5bdc-4d2e-aee1-5fd04483723b",
   "metadata": {},
   "outputs": [],
   "source": [
    "import pandas as pd\n",
    "from pymongo import MongoClient"
   ]
  },
  {
   "cell_type": "code",
   "execution_count": 3,
   "id": "6faeb389-1bf4-425b-9a31-b2be7b2adcbf",
   "metadata": {},
   "outputs": [],
   "source": [
    "dummy_data = [\n",
    "    {\n",
    "        \"name\":\"Basit\",\n",
    "        \"Role\": \"Student\"\n",
    "    },\n",
    "    {\n",
    "        \"name\": \"Shakil\",\n",
    "        \"Role\": \"Private_Service\"\n",
    "    },\n",
    "    {\n",
    "        \"name\": \"Rohima\",\n",
    "        \"Role\": \"Student\n",
    "    ]\n",
    "\n",
    "dummy_df = pd.DataFrame(dummy_data)"
   ]
  },
  {
   "cell_type": "code",
   "execution_count": 4,
   "id": "a0524df6-e4dd-4f07-9e48-f12b5bc6eb82",
   "metadata": {},
   "outputs": [
    {
     "data": {
      "text/html": [
       "<div>\n",
       "<style scoped>\n",
       "    .dataframe tbody tr th:only-of-type {\n",
       "        vertical-align: middle;\n",
       "    }\n",
       "\n",
       "    .dataframe tbody tr th {\n",
       "        vertical-align: top;\n",
       "    }\n",
       "\n",
       "    .dataframe thead th {\n",
       "        text-align: right;\n",
       "    }\n",
       "</style>\n",
       "<table border=\"1\" class=\"dataframe\">\n",
       "  <thead>\n",
       "    <tr style=\"text-align: right;\">\n",
       "      <th></th>\n",
       "      <th>name</th>\n",
       "      <th>Role</th>\n",
       "    </tr>\n",
       "  </thead>\n",
       "  <tbody>\n",
       "    <tr>\n",
       "      <th>0</th>\n",
       "      <td>Basit</td>\n",
       "      <td>Student</td>\n",
       "    </tr>\n",
       "    <tr>\n",
       "      <th>1</th>\n",
       "      <td>Shakil</td>\n",
       "      <td>Private_Service</td>\n",
       "    </tr>\n",
       "  </tbody>\n",
       "</table>\n",
       "</div>"
      ],
      "text/plain": [
       "     name             Role\n",
       "0   Basit          Student\n",
       "1  Shakil  Private_Service"
      ]
     },
     "execution_count": 4,
     "metadata": {},
     "output_type": "execute_result"
    }
   ],
   "source": [
    "dummy_df"
   ]
  },
  {
   "cell_type": "markdown",
   "id": "86ee4d0a-dc92-4ab9-b381-72a96cb9e6c6",
   "metadata": {},
   "source": [
    "## New Column Addition Direct method"
   ]
  },
  {
   "cell_type": "code",
   "execution_count": 5,
   "id": "6b4044b5-63da-4a14-aac9-045377df1483",
   "metadata": {},
   "outputs": [],
   "source": [
    "dummy_df['gender'] = \"Male\""
   ]
  },
  {
   "cell_type": "code",
   "execution_count": 8,
   "id": "da279d3e-e956-4849-9e9b-baa93e9d1b7a",
   "metadata": {},
   "outputs": [],
   "source": [
    "female_data = [{\n",
    "    \"name\": \"Rohima\",\n",
    "    \"Role\": \"Student\",\n",
    "    \"gender\": \"Female\"}]\n",
    "female_df = pd.DataFrame(female_data)"
   ]
  },
  {
   "cell_type": "code",
   "execution_count": 30,
   "id": "43207582-b263-428f-a2ce-468561feba2b",
   "metadata": {},
   "outputs": [
    {
     "data": {
      "text/html": [
       "<div>\n",
       "<style scoped>\n",
       "    .dataframe tbody tr th:only-of-type {\n",
       "        vertical-align: middle;\n",
       "    }\n",
       "\n",
       "    .dataframe tbody tr th {\n",
       "        vertical-align: top;\n",
       "    }\n",
       "\n",
       "    .dataframe thead th {\n",
       "        text-align: right;\n",
       "    }\n",
       "</style>\n",
       "<table border=\"1\" class=\"dataframe\">\n",
       "  <thead>\n",
       "    <tr style=\"text-align: right;\">\n",
       "      <th></th>\n",
       "      <th>name</th>\n",
       "      <th>Role</th>\n",
       "      <th>gender</th>\n",
       "    </tr>\n",
       "  </thead>\n",
       "  <tbody>\n",
       "    <tr>\n",
       "      <th>0</th>\n",
       "      <td>Rohima</td>\n",
       "      <td>Student</td>\n",
       "      <td>Female</td>\n",
       "    </tr>\n",
       "  </tbody>\n",
       "</table>\n",
       "</div>"
      ],
      "text/plain": [
       "     name     Role  gender\n",
       "0  Rohima  Student  Female"
      ]
     },
     "execution_count": 30,
     "metadata": {},
     "output_type": "execute_result"
    }
   ],
   "source": [
    "female_df"
   ]
  },
  {
   "cell_type": "code",
   "execution_count": 6,
   "id": "113dd9a3-3a9c-4392-8985-a9f02bc0e8f6",
   "metadata": {},
   "outputs": [
    {
     "data": {
      "text/html": [
       "<div>\n",
       "<style scoped>\n",
       "    .dataframe tbody tr th:only-of-type {\n",
       "        vertical-align: middle;\n",
       "    }\n",
       "\n",
       "    .dataframe tbody tr th {\n",
       "        vertical-align: top;\n",
       "    }\n",
       "\n",
       "    .dataframe thead th {\n",
       "        text-align: right;\n",
       "    }\n",
       "</style>\n",
       "<table border=\"1\" class=\"dataframe\">\n",
       "  <thead>\n",
       "    <tr style=\"text-align: right;\">\n",
       "      <th></th>\n",
       "      <th>name</th>\n",
       "      <th>Role</th>\n",
       "      <th>gender</th>\n",
       "    </tr>\n",
       "  </thead>\n",
       "  <tbody>\n",
       "    <tr>\n",
       "      <th>0</th>\n",
       "      <td>Basit</td>\n",
       "      <td>Student</td>\n",
       "      <td>Male</td>\n",
       "    </tr>\n",
       "    <tr>\n",
       "      <th>1</th>\n",
       "      <td>Shakil</td>\n",
       "      <td>Private_Service</td>\n",
       "      <td>Male</td>\n",
       "    </tr>\n",
       "  </tbody>\n",
       "</table>\n",
       "</div>"
      ],
      "text/plain": [
       "     name             Role gender\n",
       "0   Basit          Student   Male\n",
       "1  Shakil  Private_Service   Male"
      ]
     },
     "execution_count": 6,
     "metadata": {},
     "output_type": "execute_result"
    }
   ],
   "source": [
    "dummy_df"
   ]
  },
  {
   "cell_type": "markdown",
   "id": "a542dd1d-1d82-493f-a731-084a60509ea3",
   "metadata": {},
   "source": [
    "## Using filter pandas"
   ]
  },
  {
   "cell_type": "code",
   "execution_count": 9,
   "id": "d9156e7f-1c69-4688-ac9f-dc2dbb4d582a",
   "metadata": {},
   "outputs": [],
   "source": [
    "dummy_df = pd.concat([dummy_df, female_df])"
   ]
  },
  {
   "cell_type": "code",
   "execution_count": 10,
   "id": "46dbb29e-d81f-4203-a062-bcb4ee669543",
   "metadata": {},
   "outputs": [
    {
     "data": {
      "text/html": [
       "<div>\n",
       "<style scoped>\n",
       "    .dataframe tbody tr th:only-of-type {\n",
       "        vertical-align: middle;\n",
       "    }\n",
       "\n",
       "    .dataframe tbody tr th {\n",
       "        vertical-align: top;\n",
       "    }\n",
       "\n",
       "    .dataframe thead th {\n",
       "        text-align: right;\n",
       "    }\n",
       "</style>\n",
       "<table border=\"1\" class=\"dataframe\">\n",
       "  <thead>\n",
       "    <tr style=\"text-align: right;\">\n",
       "      <th></th>\n",
       "      <th>name</th>\n",
       "      <th>Role</th>\n",
       "      <th>gender</th>\n",
       "    </tr>\n",
       "  </thead>\n",
       "  <tbody>\n",
       "    <tr>\n",
       "      <th>0</th>\n",
       "      <td>Basit</td>\n",
       "      <td>Student</td>\n",
       "      <td>Male</td>\n",
       "    </tr>\n",
       "    <tr>\n",
       "      <th>1</th>\n",
       "      <td>Shakil</td>\n",
       "      <td>Private_Service</td>\n",
       "      <td>Male</td>\n",
       "    </tr>\n",
       "    <tr>\n",
       "      <th>0</th>\n",
       "      <td>Rohima</td>\n",
       "      <td>Student</td>\n",
       "      <td>Female</td>\n",
       "    </tr>\n",
       "  </tbody>\n",
       "</table>\n",
       "</div>"
      ],
      "text/plain": [
       "     name             Role  gender\n",
       "0   Basit          Student    Male\n",
       "1  Shakil  Private_Service    Male\n",
       "0  Rohima          Student  Female"
      ]
     },
     "execution_count": 10,
     "metadata": {},
     "output_type": "execute_result"
    }
   ],
   "source": [
    "dummy_df"
   ]
  },
  {
   "cell_type": "code",
   "execution_count": 15,
   "id": "83f33667-0165-4460-8efa-bb1196cce3a3",
   "metadata": {},
   "outputs": [],
   "source": [
    "cond = dummy_df.Role==\"Student\" # condition or filter "
   ]
  },
  {
   "cell_type": "code",
   "execution_count": 16,
   "id": "cbc57c75-c489-4fe9-bf89-86e0aa4548c6",
   "metadata": {},
   "outputs": [
    {
     "data": {
      "text/html": [
       "<div>\n",
       "<style scoped>\n",
       "    .dataframe tbody tr th:only-of-type {\n",
       "        vertical-align: middle;\n",
       "    }\n",
       "\n",
       "    .dataframe tbody tr th {\n",
       "        vertical-align: top;\n",
       "    }\n",
       "\n",
       "    .dataframe thead th {\n",
       "        text-align: right;\n",
       "    }\n",
       "</style>\n",
       "<table border=\"1\" class=\"dataframe\">\n",
       "  <thead>\n",
       "    <tr style=\"text-align: right;\">\n",
       "      <th></th>\n",
       "      <th>name</th>\n",
       "      <th>Role</th>\n",
       "      <th>gender</th>\n",
       "    </tr>\n",
       "  </thead>\n",
       "  <tbody>\n",
       "    <tr>\n",
       "      <th>0</th>\n",
       "      <td>Basit</td>\n",
       "      <td>Student</td>\n",
       "      <td>Male</td>\n",
       "    </tr>\n",
       "    <tr>\n",
       "      <th>0</th>\n",
       "      <td>Rohima</td>\n",
       "      <td>Student</td>\n",
       "      <td>Female</td>\n",
       "    </tr>\n",
       "  </tbody>\n",
       "</table>\n",
       "</div>"
      ],
      "text/plain": [
       "     name     Role  gender\n",
       "0   Basit  Student    Male\n",
       "0  Rohima  Student  Female"
      ]
     },
     "execution_count": 16,
     "metadata": {},
     "output_type": "execute_result"
    }
   ],
   "source": [
    "dummy_df[cond]"
   ]
  },
  {
   "cell_type": "markdown",
   "id": "ce93a106-bb00-4e4e-b7b7-14aa29eb2f8f",
   "metadata": {},
   "source": [
    "## Apply function pandas ( basic + Lamda )"
   ]
  },
  {
   "cell_type": "code",
   "execution_count": 17,
   "id": "1da49592-4eb3-461e-befe-6e50056b8f5a",
   "metadata": {},
   "outputs": [],
   "source": [
    "def func(x):\n",
    "    something\n",
    "\n",
    "dummy_df['Month_Expense'] = dummy_df.Role.apply(lambda x: 5000 if x == \"Student\" else 30000)"
   ]
  },
  {
   "cell_type": "code",
   "execution_count": 18,
   "id": "fd671637-3852-4c9f-8fc5-dc53174445e4",
   "metadata": {},
   "outputs": [
    {
     "data": {
      "text/html": [
       "<div>\n",
       "<style scoped>\n",
       "    .dataframe tbody tr th:only-of-type {\n",
       "        vertical-align: middle;\n",
       "    }\n",
       "\n",
       "    .dataframe tbody tr th {\n",
       "        vertical-align: top;\n",
       "    }\n",
       "\n",
       "    .dataframe thead th {\n",
       "        text-align: right;\n",
       "    }\n",
       "</style>\n",
       "<table border=\"1\" class=\"dataframe\">\n",
       "  <thead>\n",
       "    <tr style=\"text-align: right;\">\n",
       "      <th></th>\n",
       "      <th>name</th>\n",
       "      <th>Role</th>\n",
       "      <th>gender</th>\n",
       "      <th>Month_Expense</th>\n",
       "    </tr>\n",
       "  </thead>\n",
       "  <tbody>\n",
       "    <tr>\n",
       "      <th>0</th>\n",
       "      <td>Basit</td>\n",
       "      <td>Student</td>\n",
       "      <td>Male</td>\n",
       "      <td>5000</td>\n",
       "    </tr>\n",
       "    <tr>\n",
       "      <th>1</th>\n",
       "      <td>Shakil</td>\n",
       "      <td>Private_Service</td>\n",
       "      <td>Male</td>\n",
       "      <td>30000</td>\n",
       "    </tr>\n",
       "    <tr>\n",
       "      <th>0</th>\n",
       "      <td>Rohima</td>\n",
       "      <td>Student</td>\n",
       "      <td>Female</td>\n",
       "      <td>5000</td>\n",
       "    </tr>\n",
       "  </tbody>\n",
       "</table>\n",
       "</div>"
      ],
      "text/plain": [
       "     name             Role  gender  Month_Expense\n",
       "0   Basit          Student    Male           5000\n",
       "1  Shakil  Private_Service    Male          30000\n",
       "0  Rohima          Student  Female           5000"
      ]
     },
     "execution_count": 18,
     "metadata": {},
     "output_type": "execute_result"
    }
   ],
   "source": [
    "dummy_df"
   ]
  },
  {
   "cell_type": "code",
   "execution_count": 19,
   "id": "9b976fa2-f21b-46b5-a820-967ba7d66b43",
   "metadata": {},
   "outputs": [],
   "source": [
    "dummy_df['dress'] = dummy_df.Role.apply(lambda x: 2 if x == \"Student\" else 5)"
   ]
  },
  {
   "cell_type": "code",
   "execution_count": 20,
   "id": "5670d048-2e85-40fa-ab74-55ae58fe48f9",
   "metadata": {},
   "outputs": [
    {
     "data": {
      "text/html": [
       "<div>\n",
       "<style scoped>\n",
       "    .dataframe tbody tr th:only-of-type {\n",
       "        vertical-align: middle;\n",
       "    }\n",
       "\n",
       "    .dataframe tbody tr th {\n",
       "        vertical-align: top;\n",
       "    }\n",
       "\n",
       "    .dataframe thead th {\n",
       "        text-align: right;\n",
       "    }\n",
       "</style>\n",
       "<table border=\"1\" class=\"dataframe\">\n",
       "  <thead>\n",
       "    <tr style=\"text-align: right;\">\n",
       "      <th></th>\n",
       "      <th>name</th>\n",
       "      <th>Role</th>\n",
       "      <th>gender</th>\n",
       "      <th>Month_Expense</th>\n",
       "      <th>dress</th>\n",
       "    </tr>\n",
       "  </thead>\n",
       "  <tbody>\n",
       "    <tr>\n",
       "      <th>0</th>\n",
       "      <td>Basit</td>\n",
       "      <td>Student</td>\n",
       "      <td>Male</td>\n",
       "      <td>5000</td>\n",
       "      <td>2</td>\n",
       "    </tr>\n",
       "    <tr>\n",
       "      <th>1</th>\n",
       "      <td>Shakil</td>\n",
       "      <td>Private_Service</td>\n",
       "      <td>Male</td>\n",
       "      <td>30000</td>\n",
       "      <td>5</td>\n",
       "    </tr>\n",
       "    <tr>\n",
       "      <th>0</th>\n",
       "      <td>Rohima</td>\n",
       "      <td>Student</td>\n",
       "      <td>Female</td>\n",
       "      <td>5000</td>\n",
       "      <td>2</td>\n",
       "    </tr>\n",
       "  </tbody>\n",
       "</table>\n",
       "</div>"
      ],
      "text/plain": [
       "     name             Role  gender  Month_Expense  dress\n",
       "0   Basit          Student    Male           5000      2\n",
       "1  Shakil  Private_Service    Male          30000      5\n",
       "0  Rohima          Student  Female           5000      2"
      ]
     },
     "execution_count": 20,
     "metadata": {},
     "output_type": "execute_result"
    }
   ],
   "source": [
    "dummy_df"
   ]
  },
  {
   "cell_type": "code",
   "execution_count": 21,
   "id": "84af0e7b-8edd-4b31-930c-52459c56b6c3",
   "metadata": {},
   "outputs": [],
   "source": [
    "dummy_df['dress_expense'] = dummy_df['dress']*1500"
   ]
  },
  {
   "cell_type": "code",
   "execution_count": 22,
   "id": "baa1ee03-7205-4fc9-b81a-255b334f0ddd",
   "metadata": {},
   "outputs": [
    {
     "data": {
      "text/html": [
       "<div>\n",
       "<style scoped>\n",
       "    .dataframe tbody tr th:only-of-type {\n",
       "        vertical-align: middle;\n",
       "    }\n",
       "\n",
       "    .dataframe tbody tr th {\n",
       "        vertical-align: top;\n",
       "    }\n",
       "\n",
       "    .dataframe thead th {\n",
       "        text-align: right;\n",
       "    }\n",
       "</style>\n",
       "<table border=\"1\" class=\"dataframe\">\n",
       "  <thead>\n",
       "    <tr style=\"text-align: right;\">\n",
       "      <th></th>\n",
       "      <th>name</th>\n",
       "      <th>Role</th>\n",
       "      <th>gender</th>\n",
       "      <th>Month_Expense</th>\n",
       "      <th>dress</th>\n",
       "      <th>dress_expense</th>\n",
       "    </tr>\n",
       "  </thead>\n",
       "  <tbody>\n",
       "    <tr>\n",
       "      <th>0</th>\n",
       "      <td>Basit</td>\n",
       "      <td>Student</td>\n",
       "      <td>Male</td>\n",
       "      <td>5000</td>\n",
       "      <td>2</td>\n",
       "      <td>3000</td>\n",
       "    </tr>\n",
       "    <tr>\n",
       "      <th>1</th>\n",
       "      <td>Shakil</td>\n",
       "      <td>Private_Service</td>\n",
       "      <td>Male</td>\n",
       "      <td>30000</td>\n",
       "      <td>5</td>\n",
       "      <td>7500</td>\n",
       "    </tr>\n",
       "    <tr>\n",
       "      <th>0</th>\n",
       "      <td>Rohima</td>\n",
       "      <td>Student</td>\n",
       "      <td>Female</td>\n",
       "      <td>5000</td>\n",
       "      <td>2</td>\n",
       "      <td>3000</td>\n",
       "    </tr>\n",
       "  </tbody>\n",
       "</table>\n",
       "</div>"
      ],
      "text/plain": [
       "     name             Role  gender  Month_Expense  dress  dress_expense\n",
       "0   Basit          Student    Male           5000      2           3000\n",
       "1  Shakil  Private_Service    Male          30000      5           7500\n",
       "0  Rohima          Student  Female           5000      2           3000"
      ]
     },
     "execution_count": 22,
     "metadata": {},
     "output_type": "execute_result"
    }
   ],
   "source": [
    "dummy_df"
   ]
  },
  {
   "cell_type": "code",
   "execution_count": 23,
   "id": "cb3fbd7c-3b92-4ff5-8666-65830faa662a",
   "metadata": {},
   "outputs": [
    {
     "data": {
      "text/plain": [
       "'helloWorld'"
      ]
     },
     "execution_count": 23,
     "metadata": {},
     "output_type": "execute_result"
    }
   ],
   "source": [
    "\"hello\" + \"World\""
   ]
  },
  {
   "cell_type": "code",
   "execution_count": 24,
   "id": "6c3b1f6c-e18c-40a8-9d42-a319e2d58802",
   "metadata": {},
   "outputs": [],
   "source": [
    "dummy_df['name'] = dummy_df['name']+'_'+dummy_df['gender']"
   ]
  },
  {
   "cell_type": "code",
   "execution_count": 25,
   "id": "98c7f534-8412-4bc9-9dc8-bc987fb66983",
   "metadata": {},
   "outputs": [
    {
     "data": {
      "text/html": [
       "<div>\n",
       "<style scoped>\n",
       "    .dataframe tbody tr th:only-of-type {\n",
       "        vertical-align: middle;\n",
       "    }\n",
       "\n",
       "    .dataframe tbody tr th {\n",
       "        vertical-align: top;\n",
       "    }\n",
       "\n",
       "    .dataframe thead th {\n",
       "        text-align: right;\n",
       "    }\n",
       "</style>\n",
       "<table border=\"1\" class=\"dataframe\">\n",
       "  <thead>\n",
       "    <tr style=\"text-align: right;\">\n",
       "      <th></th>\n",
       "      <th>name</th>\n",
       "      <th>Role</th>\n",
       "      <th>gender</th>\n",
       "      <th>Month_Expense</th>\n",
       "      <th>dress</th>\n",
       "      <th>dress_expense</th>\n",
       "    </tr>\n",
       "  </thead>\n",
       "  <tbody>\n",
       "    <tr>\n",
       "      <th>0</th>\n",
       "      <td>Basit_Male</td>\n",
       "      <td>Student</td>\n",
       "      <td>Male</td>\n",
       "      <td>5000</td>\n",
       "      <td>2</td>\n",
       "      <td>3000</td>\n",
       "    </tr>\n",
       "    <tr>\n",
       "      <th>1</th>\n",
       "      <td>Shakil_Male</td>\n",
       "      <td>Private_Service</td>\n",
       "      <td>Male</td>\n",
       "      <td>30000</td>\n",
       "      <td>5</td>\n",
       "      <td>7500</td>\n",
       "    </tr>\n",
       "    <tr>\n",
       "      <th>0</th>\n",
       "      <td>Rohima_Female</td>\n",
       "      <td>Student</td>\n",
       "      <td>Female</td>\n",
       "      <td>5000</td>\n",
       "      <td>2</td>\n",
       "      <td>3000</td>\n",
       "    </tr>\n",
       "  </tbody>\n",
       "</table>\n",
       "</div>"
      ],
      "text/plain": [
       "            name             Role  gender  Month_Expense  dress  dress_expense\n",
       "0     Basit_Male          Student    Male           5000      2           3000\n",
       "1    Shakil_Male  Private_Service    Male          30000      5           7500\n",
       "0  Rohima_Female          Student  Female           5000      2           3000"
      ]
     },
     "execution_count": 25,
     "metadata": {},
     "output_type": "execute_result"
    }
   ],
   "source": [
    "dummy_df"
   ]
  },
  {
   "cell_type": "code",
   "execution_count": 27,
   "id": "663c4a90-83b3-46bd-90e0-ebd1f0f42122",
   "metadata": {},
   "outputs": [
    {
     "data": {
      "text/plain": [
       "['Basit', 'Male', 'somet']"
      ]
     },
     "execution_count": 27,
     "metadata": {},
     "output_type": "execute_result"
    }
   ],
   "source": [
    "name = \"Basit_Male_somet\"\n",
    "\n",
    "name.split(\"_\")"
   ]
  },
  {
   "cell_type": "code",
   "execution_count": 28,
   "id": "615ab9de-f7e7-4cb2-83d6-b6c92ff78601",
   "metadata": {},
   "outputs": [],
   "source": [
    "cond = dummy_df.gender==\"Male\"\n",
    "dummy_df['name'] = dummy_df[cond].name.apply(lambda x: x.split(\"_\")[0])"
   ]
  },
  {
   "cell_type": "code",
   "execution_count": 29,
   "id": "84719439-d8aa-4dc8-91d6-2776f502d831",
   "metadata": {},
   "outputs": [
    {
     "data": {
      "text/html": [
       "<div>\n",
       "<style scoped>\n",
       "    .dataframe tbody tr th:only-of-type {\n",
       "        vertical-align: middle;\n",
       "    }\n",
       "\n",
       "    .dataframe tbody tr th {\n",
       "        vertical-align: top;\n",
       "    }\n",
       "\n",
       "    .dataframe thead th {\n",
       "        text-align: right;\n",
       "    }\n",
       "</style>\n",
       "<table border=\"1\" class=\"dataframe\">\n",
       "  <thead>\n",
       "    <tr style=\"text-align: right;\">\n",
       "      <th></th>\n",
       "      <th>name</th>\n",
       "      <th>Role</th>\n",
       "      <th>gender</th>\n",
       "      <th>Month_Expense</th>\n",
       "      <th>dress</th>\n",
       "      <th>dress_expense</th>\n",
       "    </tr>\n",
       "  </thead>\n",
       "  <tbody>\n",
       "    <tr>\n",
       "      <th>0</th>\n",
       "      <td>Basit</td>\n",
       "      <td>Student</td>\n",
       "      <td>Male</td>\n",
       "      <td>5000</td>\n",
       "      <td>2</td>\n",
       "      <td>3000</td>\n",
       "    </tr>\n",
       "    <tr>\n",
       "      <th>1</th>\n",
       "      <td>Shakil</td>\n",
       "      <td>Private_Service</td>\n",
       "      <td>Male</td>\n",
       "      <td>30000</td>\n",
       "      <td>5</td>\n",
       "      <td>7500</td>\n",
       "    </tr>\n",
       "    <tr>\n",
       "      <th>0</th>\n",
       "      <td>Basit</td>\n",
       "      <td>Student</td>\n",
       "      <td>Female</td>\n",
       "      <td>5000</td>\n",
       "      <td>2</td>\n",
       "      <td>3000</td>\n",
       "    </tr>\n",
       "  </tbody>\n",
       "</table>\n",
       "</div>"
      ],
      "text/plain": [
       "     name             Role  gender  Month_Expense  dress  dress_expense\n",
       "0   Basit          Student    Male           5000      2           3000\n",
       "1  Shakil  Private_Service    Male          30000      5           7500\n",
       "0   Basit          Student  Female           5000      2           3000"
      ]
     },
     "execution_count": 29,
     "metadata": {},
     "output_type": "execute_result"
    }
   ],
   "source": [
    "dummy_df"
   ]
  },
  {
   "cell_type": "code",
   "execution_count": 31,
   "id": "eac52021-e5e0-4c7a-80d8-2f6def0269a6",
   "metadata": {},
   "outputs": [],
   "source": [
    "dummy_df.reset_index(drop=True, inplace=True)"
   ]
  },
  {
   "cell_type": "code",
   "execution_count": 32,
   "id": "0c628d76-9c96-4463-8a62-d97fc1db8518",
   "metadata": {},
   "outputs": [
    {
     "data": {
      "text/html": [
       "<div>\n",
       "<style scoped>\n",
       "    .dataframe tbody tr th:only-of-type {\n",
       "        vertical-align: middle;\n",
       "    }\n",
       "\n",
       "    .dataframe tbody tr th {\n",
       "        vertical-align: top;\n",
       "    }\n",
       "\n",
       "    .dataframe thead th {\n",
       "        text-align: right;\n",
       "    }\n",
       "</style>\n",
       "<table border=\"1\" class=\"dataframe\">\n",
       "  <thead>\n",
       "    <tr style=\"text-align: right;\">\n",
       "      <th></th>\n",
       "      <th>name</th>\n",
       "      <th>Role</th>\n",
       "      <th>gender</th>\n",
       "      <th>Month_Expense</th>\n",
       "      <th>dress</th>\n",
       "      <th>dress_expense</th>\n",
       "    </tr>\n",
       "  </thead>\n",
       "  <tbody>\n",
       "    <tr>\n",
       "      <th>0</th>\n",
       "      <td>Basit</td>\n",
       "      <td>Student</td>\n",
       "      <td>Male</td>\n",
       "      <td>5000</td>\n",
       "      <td>2</td>\n",
       "      <td>3000</td>\n",
       "    </tr>\n",
       "    <tr>\n",
       "      <th>1</th>\n",
       "      <td>Shakil</td>\n",
       "      <td>Private_Service</td>\n",
       "      <td>Male</td>\n",
       "      <td>30000</td>\n",
       "      <td>5</td>\n",
       "      <td>7500</td>\n",
       "    </tr>\n",
       "    <tr>\n",
       "      <th>2</th>\n",
       "      <td>Basit</td>\n",
       "      <td>Student</td>\n",
       "      <td>Female</td>\n",
       "      <td>5000</td>\n",
       "      <td>2</td>\n",
       "      <td>3000</td>\n",
       "    </tr>\n",
       "  </tbody>\n",
       "</table>\n",
       "</div>"
      ],
      "text/plain": [
       "     name             Role  gender  Month_Expense  dress  dress_expense\n",
       "0   Basit          Student    Male           5000      2           3000\n",
       "1  Shakil  Private_Service    Male          30000      5           7500\n",
       "2   Basit          Student  Female           5000      2           3000"
      ]
     },
     "execution_count": 32,
     "metadata": {},
     "output_type": "execute_result"
    }
   ],
   "source": [
    "dummy_df"
   ]
  },
  {
   "cell_type": "markdown",
   "id": "7b04d0b1-9326-4b83-8690-6d0e53759dc2",
   "metadata": {},
   "source": [
    "## New value addition in the column using \"loc\"filter"
   ]
  },
  {
   "cell_type": "code",
   "execution_count": 33,
   "id": "08ae1738-183c-4a5f-9746-7365cd085818",
   "metadata": {},
   "outputs": [],
   "source": [
    "dummy_df.loc[dummy_df.gender==\"Female\", \"name\"] = \"Rohima_Female\""
   ]
  },
  {
   "cell_type": "code",
   "execution_count": 34,
   "id": "6fff89a7-3ab2-4a52-8fae-2e17a020f5c2",
   "metadata": {},
   "outputs": [
    {
     "data": {
      "text/html": [
       "<div>\n",
       "<style scoped>\n",
       "    .dataframe tbody tr th:only-of-type {\n",
       "        vertical-align: middle;\n",
       "    }\n",
       "\n",
       "    .dataframe tbody tr th {\n",
       "        vertical-align: top;\n",
       "    }\n",
       "\n",
       "    .dataframe thead th {\n",
       "        text-align: right;\n",
       "    }\n",
       "</style>\n",
       "<table border=\"1\" class=\"dataframe\">\n",
       "  <thead>\n",
       "    <tr style=\"text-align: right;\">\n",
       "      <th></th>\n",
       "      <th>name</th>\n",
       "      <th>Role</th>\n",
       "      <th>gender</th>\n",
       "      <th>Month_Expense</th>\n",
       "      <th>dress</th>\n",
       "      <th>dress_expense</th>\n",
       "    </tr>\n",
       "  </thead>\n",
       "  <tbody>\n",
       "    <tr>\n",
       "      <th>0</th>\n",
       "      <td>Basit</td>\n",
       "      <td>Student</td>\n",
       "      <td>Male</td>\n",
       "      <td>5000</td>\n",
       "      <td>2</td>\n",
       "      <td>3000</td>\n",
       "    </tr>\n",
       "    <tr>\n",
       "      <th>1</th>\n",
       "      <td>Shakil</td>\n",
       "      <td>Private_Service</td>\n",
       "      <td>Male</td>\n",
       "      <td>30000</td>\n",
       "      <td>5</td>\n",
       "      <td>7500</td>\n",
       "    </tr>\n",
       "    <tr>\n",
       "      <th>2</th>\n",
       "      <td>Rohima_Female</td>\n",
       "      <td>Student</td>\n",
       "      <td>Female</td>\n",
       "      <td>5000</td>\n",
       "      <td>2</td>\n",
       "      <td>3000</td>\n",
       "    </tr>\n",
       "  </tbody>\n",
       "</table>\n",
       "</div>"
      ],
      "text/plain": [
       "            name             Role  gender  Month_Expense  dress  dress_expense\n",
       "0          Basit          Student    Male           5000      2           3000\n",
       "1         Shakil  Private_Service    Male          30000      5           7500\n",
       "2  Rohima_Female          Student  Female           5000      2           3000"
      ]
     },
     "execution_count": 34,
     "metadata": {},
     "output_type": "execute_result"
    }
   ],
   "source": [
    "dummy_df"
   ]
  },
  {
   "cell_type": "code",
   "execution_count": 35,
   "id": "ad7a960a-cee5-462f-a5dd-21e7e5456e3e",
   "metadata": {},
   "outputs": [],
   "source": [
    "dummy_df.loc[dummy_df.Role==\"Student\", \"dress\"] = 3"
   ]
  },
  {
   "cell_type": "code",
   "execution_count": 36,
   "id": "fb7afae4-bab4-42ee-969e-6c0cc4a43664",
   "metadata": {},
   "outputs": [
    {
     "data": {
      "text/html": [
       "<div>\n",
       "<style scoped>\n",
       "    .dataframe tbody tr th:only-of-type {\n",
       "        vertical-align: middle;\n",
       "    }\n",
       "\n",
       "    .dataframe tbody tr th {\n",
       "        vertical-align: top;\n",
       "    }\n",
       "\n",
       "    .dataframe thead th {\n",
       "        text-align: right;\n",
       "    }\n",
       "</style>\n",
       "<table border=\"1\" class=\"dataframe\">\n",
       "  <thead>\n",
       "    <tr style=\"text-align: right;\">\n",
       "      <th></th>\n",
       "      <th>name</th>\n",
       "      <th>Role</th>\n",
       "      <th>gender</th>\n",
       "      <th>Month_Expense</th>\n",
       "      <th>dress</th>\n",
       "      <th>dress_expense</th>\n",
       "    </tr>\n",
       "  </thead>\n",
       "  <tbody>\n",
       "    <tr>\n",
       "      <th>0</th>\n",
       "      <td>Basit</td>\n",
       "      <td>Student</td>\n",
       "      <td>Male</td>\n",
       "      <td>5000</td>\n",
       "      <td>3</td>\n",
       "      <td>3000</td>\n",
       "    </tr>\n",
       "    <tr>\n",
       "      <th>1</th>\n",
       "      <td>Shakil</td>\n",
       "      <td>Private_Service</td>\n",
       "      <td>Male</td>\n",
       "      <td>30000</td>\n",
       "      <td>5</td>\n",
       "      <td>7500</td>\n",
       "    </tr>\n",
       "    <tr>\n",
       "      <th>2</th>\n",
       "      <td>Rohima_Female</td>\n",
       "      <td>Student</td>\n",
       "      <td>Female</td>\n",
       "      <td>5000</td>\n",
       "      <td>3</td>\n",
       "      <td>3000</td>\n",
       "    </tr>\n",
       "  </tbody>\n",
       "</table>\n",
       "</div>"
      ],
      "text/plain": [
       "            name             Role  gender  Month_Expense  dress  dress_expense\n",
       "0          Basit          Student    Male           5000      3           3000\n",
       "1         Shakil  Private_Service    Male          30000      5           7500\n",
       "2  Rohima_Female          Student  Female           5000      3           3000"
      ]
     },
     "execution_count": 36,
     "metadata": {},
     "output_type": "execute_result"
    }
   ],
   "source": [
    "dummy_df"
   ]
  },
  {
   "cell_type": "markdown",
   "id": "35e21a7b-f877-4fb7-bb72-0ecc534c9548",
   "metadata": {},
   "source": [
    "## Null value handling"
   ]
  },
  {
   "cell_type": "code",
   "execution_count": 38,
   "id": "ecd512cf-0bd3-412a-b92c-c32e1d2745f2",
   "metadata": {},
   "outputs": [],
   "source": [
    "dummy_df.loc[dummy_df.name==\"Basit\", \"dress\"] = None"
   ]
  },
  {
   "cell_type": "code",
   "execution_count": 39,
   "id": "80979135-bafd-4576-97c3-20244bc9c4c2",
   "metadata": {},
   "outputs": [
    {
     "data": {
      "text/html": [
       "<div>\n",
       "<style scoped>\n",
       "    .dataframe tbody tr th:only-of-type {\n",
       "        vertical-align: middle;\n",
       "    }\n",
       "\n",
       "    .dataframe tbody tr th {\n",
       "        vertical-align: top;\n",
       "    }\n",
       "\n",
       "    .dataframe thead th {\n",
       "        text-align: right;\n",
       "    }\n",
       "</style>\n",
       "<table border=\"1\" class=\"dataframe\">\n",
       "  <thead>\n",
       "    <tr style=\"text-align: right;\">\n",
       "      <th></th>\n",
       "      <th>name</th>\n",
       "      <th>Role</th>\n",
       "      <th>gender</th>\n",
       "      <th>Month_Expense</th>\n",
       "      <th>dress</th>\n",
       "      <th>dress_expense</th>\n",
       "    </tr>\n",
       "  </thead>\n",
       "  <tbody>\n",
       "    <tr>\n",
       "      <th>0</th>\n",
       "      <td>Basit</td>\n",
       "      <td>Student</td>\n",
       "      <td>Male</td>\n",
       "      <td>5000</td>\n",
       "      <td>NaN</td>\n",
       "      <td>3000</td>\n",
       "    </tr>\n",
       "    <tr>\n",
       "      <th>1</th>\n",
       "      <td>Shakil</td>\n",
       "      <td>Private_Service</td>\n",
       "      <td>Male</td>\n",
       "      <td>30000</td>\n",
       "      <td>5.0</td>\n",
       "      <td>7500</td>\n",
       "    </tr>\n",
       "    <tr>\n",
       "      <th>2</th>\n",
       "      <td>Rohima_Female</td>\n",
       "      <td>Student</td>\n",
       "      <td>Female</td>\n",
       "      <td>5000</td>\n",
       "      <td>3.0</td>\n",
       "      <td>3000</td>\n",
       "    </tr>\n",
       "  </tbody>\n",
       "</table>\n",
       "</div>"
      ],
      "text/plain": [
       "            name             Role  gender  Month_Expense  dress  dress_expense\n",
       "0          Basit          Student    Male           5000    NaN           3000\n",
       "1         Shakil  Private_Service    Male          30000    5.0           7500\n",
       "2  Rohima_Female          Student  Female           5000    3.0           3000"
      ]
     },
     "execution_count": 39,
     "metadata": {},
     "output_type": "execute_result"
    }
   ],
   "source": [
    "dummy_df"
   ]
  },
  {
   "cell_type": "code",
   "execution_count": 42,
   "id": "3d689e95-7693-4561-b4c2-09c5fb788d35",
   "metadata": {},
   "outputs": [
    {
     "data": {
      "text/html": [
       "<div>\n",
       "<style scoped>\n",
       "    .dataframe tbody tr th:only-of-type {\n",
       "        vertical-align: middle;\n",
       "    }\n",
       "\n",
       "    .dataframe tbody tr th {\n",
       "        vertical-align: top;\n",
       "    }\n",
       "\n",
       "    .dataframe thead th {\n",
       "        text-align: right;\n",
       "    }\n",
       "</style>\n",
       "<table border=\"1\" class=\"dataframe\">\n",
       "  <thead>\n",
       "    <tr style=\"text-align: right;\">\n",
       "      <th></th>\n",
       "      <th>name</th>\n",
       "      <th>Role</th>\n",
       "      <th>gender</th>\n",
       "      <th>Month_Expense</th>\n",
       "      <th>dress</th>\n",
       "      <th>dress_expense</th>\n",
       "    </tr>\n",
       "  </thead>\n",
       "  <tbody>\n",
       "    <tr>\n",
       "      <th>1</th>\n",
       "      <td>Shakil</td>\n",
       "      <td>Private_Service</td>\n",
       "      <td>Male</td>\n",
       "      <td>30000</td>\n",
       "      <td>5.0</td>\n",
       "      <td>7500.0</td>\n",
       "    </tr>\n",
       "    <tr>\n",
       "      <th>2</th>\n",
       "      <td>Rohima_Female</td>\n",
       "      <td>Student</td>\n",
       "      <td>Female</td>\n",
       "      <td>5000</td>\n",
       "      <td>3.0</td>\n",
       "      <td>4500.0</td>\n",
       "    </tr>\n",
       "  </tbody>\n",
       "</table>\n",
       "</div>"
      ],
      "text/plain": [
       "            name             Role  gender  Month_Expense  dress  dress_expense\n",
       "1         Shakil  Private_Service    Male          30000    5.0         7500.0\n",
       "2  Rohima_Female          Student  Female           5000    3.0         4500.0"
      ]
     },
     "execution_count": 42,
     "metadata": {},
     "output_type": "execute_result"
    }
   ],
   "source": [
    "dummy_df.dropna(subset=\"dress\")"
   ]
  },
  {
   "cell_type": "code",
   "execution_count": 44,
   "id": "2ae2491b-584b-4085-b086-0ec012ce2911",
   "metadata": {},
   "outputs": [],
   "source": [
    "dummy_df.dress = dummy_df.dress.fillna(0)"
   ]
  },
  {
   "cell_type": "code",
   "execution_count": 45,
   "id": "ec892889-4b41-4913-85d0-39c74adb2912",
   "metadata": {},
   "outputs": [
    {
     "data": {
      "text/html": [
       "<div>\n",
       "<style scoped>\n",
       "    .dataframe tbody tr th:only-of-type {\n",
       "        vertical-align: middle;\n",
       "    }\n",
       "\n",
       "    .dataframe tbody tr th {\n",
       "        vertical-align: top;\n",
       "    }\n",
       "\n",
       "    .dataframe thead th {\n",
       "        text-align: right;\n",
       "    }\n",
       "</style>\n",
       "<table border=\"1\" class=\"dataframe\">\n",
       "  <thead>\n",
       "    <tr style=\"text-align: right;\">\n",
       "      <th></th>\n",
       "      <th>name</th>\n",
       "      <th>Role</th>\n",
       "      <th>gender</th>\n",
       "      <th>Month_Expense</th>\n",
       "      <th>dress</th>\n",
       "      <th>dress_expense</th>\n",
       "    </tr>\n",
       "  </thead>\n",
       "  <tbody>\n",
       "    <tr>\n",
       "      <th>0</th>\n",
       "      <td>Basit</td>\n",
       "      <td>Student</td>\n",
       "      <td>Male</td>\n",
       "      <td>5000</td>\n",
       "      <td>0.0</td>\n",
       "      <td>NaN</td>\n",
       "    </tr>\n",
       "    <tr>\n",
       "      <th>1</th>\n",
       "      <td>Shakil</td>\n",
       "      <td>Private_Service</td>\n",
       "      <td>Male</td>\n",
       "      <td>30000</td>\n",
       "      <td>5.0</td>\n",
       "      <td>7500.0</td>\n",
       "    </tr>\n",
       "    <tr>\n",
       "      <th>2</th>\n",
       "      <td>Rohima_Female</td>\n",
       "      <td>Student</td>\n",
       "      <td>Female</td>\n",
       "      <td>5000</td>\n",
       "      <td>3.0</td>\n",
       "      <td>4500.0</td>\n",
       "    </tr>\n",
       "  </tbody>\n",
       "</table>\n",
       "</div>"
      ],
      "text/plain": [
       "            name             Role  gender  Month_Expense  dress  dress_expense\n",
       "0          Basit          Student    Male           5000    0.0            NaN\n",
       "1         Shakil  Private_Service    Male          30000    5.0         7500.0\n",
       "2  Rohima_Female          Student  Female           5000    3.0         4500.0"
      ]
     },
     "execution_count": 45,
     "metadata": {},
     "output_type": "execute_result"
    }
   ],
   "source": [
    "dummy_df"
   ]
  },
  {
   "cell_type": "code",
   "execution_count": 46,
   "id": "be9bd1d6-02c7-4a96-bdfd-df55641bd641",
   "metadata": {},
   "outputs": [],
   "source": [
    "dummy_df['dress_expense'] = dummy_df['dress']*1500"
   ]
  },
  {
   "cell_type": "code",
   "execution_count": 47,
   "id": "73e73095-b9db-4506-876c-18c130f40c9a",
   "metadata": {},
   "outputs": [
    {
     "data": {
      "text/html": [
       "<div>\n",
       "<style scoped>\n",
       "    .dataframe tbody tr th:only-of-type {\n",
       "        vertical-align: middle;\n",
       "    }\n",
       "\n",
       "    .dataframe tbody tr th {\n",
       "        vertical-align: top;\n",
       "    }\n",
       "\n",
       "    .dataframe thead th {\n",
       "        text-align: right;\n",
       "    }\n",
       "</style>\n",
       "<table border=\"1\" class=\"dataframe\">\n",
       "  <thead>\n",
       "    <tr style=\"text-align: right;\">\n",
       "      <th></th>\n",
       "      <th>name</th>\n",
       "      <th>Role</th>\n",
       "      <th>gender</th>\n",
       "      <th>Month_Expense</th>\n",
       "      <th>dress</th>\n",
       "      <th>dress_expense</th>\n",
       "    </tr>\n",
       "  </thead>\n",
       "  <tbody>\n",
       "    <tr>\n",
       "      <th>0</th>\n",
       "      <td>Basit</td>\n",
       "      <td>Student</td>\n",
       "      <td>Male</td>\n",
       "      <td>5000</td>\n",
       "      <td>0.0</td>\n",
       "      <td>0.0</td>\n",
       "    </tr>\n",
       "    <tr>\n",
       "      <th>1</th>\n",
       "      <td>Shakil</td>\n",
       "      <td>Private_Service</td>\n",
       "      <td>Male</td>\n",
       "      <td>30000</td>\n",
       "      <td>5.0</td>\n",
       "      <td>7500.0</td>\n",
       "    </tr>\n",
       "    <tr>\n",
       "      <th>2</th>\n",
       "      <td>Rohima_Female</td>\n",
       "      <td>Student</td>\n",
       "      <td>Female</td>\n",
       "      <td>5000</td>\n",
       "      <td>3.0</td>\n",
       "      <td>4500.0</td>\n",
       "    </tr>\n",
       "  </tbody>\n",
       "</table>\n",
       "</div>"
      ],
      "text/plain": [
       "            name             Role  gender  Month_Expense  dress  dress_expense\n",
       "0          Basit          Student    Male           5000    0.0            0.0\n",
       "1         Shakil  Private_Service    Male          30000    5.0         7500.0\n",
       "2  Rohima_Female          Student  Female           5000    3.0         4500.0"
      ]
     },
     "execution_count": 47,
     "metadata": {},
     "output_type": "execute_result"
    }
   ],
   "source": [
    "dummy_df"
   ]
  },
  {
   "cell_type": "code",
   "execution_count": 48,
   "id": "65fab5be-d6bf-4d61-806b-b4de0866d557",
   "metadata": {},
   "outputs": [],
   "source": [
    "dummy_df = pd.concat([dummy_df, dummy_df])"
   ]
  },
  {
   "cell_type": "code",
   "execution_count": 50,
   "id": "5dfe3f3d-b02d-43fd-a96d-33ac2219ba1c",
   "metadata": {},
   "outputs": [],
   "source": [
    "dummy_df.reset_index(drop=True, inplace=True)"
   ]
  },
  {
   "cell_type": "code",
   "execution_count": 51,
   "id": "dd04f43f-6e92-4011-9d28-aebfe6f4c18a",
   "metadata": {},
   "outputs": [],
   "source": [
    "dummy_df.drop_duplicates(inplace=True)"
   ]
  },
  {
   "cell_type": "code",
   "execution_count": 52,
   "id": "c04c8129-5633-4f52-8ed9-83cd7a9b2c63",
   "metadata": {},
   "outputs": [
    {
     "data": {
      "text/html": [
       "<div>\n",
       "<style scoped>\n",
       "    .dataframe tbody tr th:only-of-type {\n",
       "        vertical-align: middle;\n",
       "    }\n",
       "\n",
       "    .dataframe tbody tr th {\n",
       "        vertical-align: top;\n",
       "    }\n",
       "\n",
       "    .dataframe thead th {\n",
       "        text-align: right;\n",
       "    }\n",
       "</style>\n",
       "<table border=\"1\" class=\"dataframe\">\n",
       "  <thead>\n",
       "    <tr style=\"text-align: right;\">\n",
       "      <th></th>\n",
       "      <th>name</th>\n",
       "      <th>Role</th>\n",
       "      <th>gender</th>\n",
       "      <th>Month_Expense</th>\n",
       "      <th>dress</th>\n",
       "      <th>dress_expense</th>\n",
       "    </tr>\n",
       "  </thead>\n",
       "  <tbody>\n",
       "    <tr>\n",
       "      <th>0</th>\n",
       "      <td>Basit</td>\n",
       "      <td>Student</td>\n",
       "      <td>Male</td>\n",
       "      <td>5000</td>\n",
       "      <td>0.0</td>\n",
       "      <td>0.0</td>\n",
       "    </tr>\n",
       "    <tr>\n",
       "      <th>1</th>\n",
       "      <td>Shakil</td>\n",
       "      <td>Private_Service</td>\n",
       "      <td>Male</td>\n",
       "      <td>30000</td>\n",
       "      <td>5.0</td>\n",
       "      <td>7500.0</td>\n",
       "    </tr>\n",
       "    <tr>\n",
       "      <th>2</th>\n",
       "      <td>Rohima_Female</td>\n",
       "      <td>Student</td>\n",
       "      <td>Female</td>\n",
       "      <td>5000</td>\n",
       "      <td>3.0</td>\n",
       "      <td>4500.0</td>\n",
       "    </tr>\n",
       "  </tbody>\n",
       "</table>\n",
       "</div>"
      ],
      "text/plain": [
       "            name             Role  gender  Month_Expense  dress  dress_expense\n",
       "0          Basit          Student    Male           5000    0.0            0.0\n",
       "1         Shakil  Private_Service    Male          30000    5.0         7500.0\n",
       "2  Rohima_Female          Student  Female           5000    3.0         4500.0"
      ]
     },
     "execution_count": 52,
     "metadata": {},
     "output_type": "execute_result"
    }
   ],
   "source": [
    "dummy_df"
   ]
  },
  {
   "cell_type": "code",
   "execution_count": 53,
   "id": "e36c7000-1907-4546-a924-f8bde29c8bc7",
   "metadata": {},
   "outputs": [
    {
     "data": {
      "text/html": [
       "<div>\n",
       "<style scoped>\n",
       "    .dataframe tbody tr th:only-of-type {\n",
       "        vertical-align: middle;\n",
       "    }\n",
       "\n",
       "    .dataframe tbody tr th {\n",
       "        vertical-align: top;\n",
       "    }\n",
       "\n",
       "    .dataframe thead th {\n",
       "        text-align: right;\n",
       "    }\n",
       "</style>\n",
       "<table border=\"1\" class=\"dataframe\">\n",
       "  <thead>\n",
       "    <tr style=\"text-align: right;\">\n",
       "      <th></th>\n",
       "      <th>name</th>\n",
       "      <th>Role</th>\n",
       "      <th>gender</th>\n",
       "      <th>Month_Expense</th>\n",
       "      <th>dress</th>\n",
       "      <th>dress_expense</th>\n",
       "    </tr>\n",
       "  </thead>\n",
       "  <tbody>\n",
       "    <tr>\n",
       "      <th>0</th>\n",
       "      <td>Basit</td>\n",
       "      <td>Student</td>\n",
       "      <td>Male</td>\n",
       "      <td>5000</td>\n",
       "      <td>0.0</td>\n",
       "      <td>0.0</td>\n",
       "    </tr>\n",
       "    <tr>\n",
       "      <th>2</th>\n",
       "      <td>Rohima_Female</td>\n",
       "      <td>Student</td>\n",
       "      <td>Female</td>\n",
       "      <td>5000</td>\n",
       "      <td>3.0</td>\n",
       "      <td>4500.0</td>\n",
       "    </tr>\n",
       "    <tr>\n",
       "      <th>1</th>\n",
       "      <td>Shakil</td>\n",
       "      <td>Private_Service</td>\n",
       "      <td>Male</td>\n",
       "      <td>30000</td>\n",
       "      <td>5.0</td>\n",
       "      <td>7500.0</td>\n",
       "    </tr>\n",
       "  </tbody>\n",
       "</table>\n",
       "</div>"
      ],
      "text/plain": [
       "            name             Role  gender  Month_Expense  dress  dress_expense\n",
       "0          Basit          Student    Male           5000    0.0            0.0\n",
       "2  Rohima_Female          Student  Female           5000    3.0         4500.0\n",
       "1         Shakil  Private_Service    Male          30000    5.0         7500.0"
      ]
     },
     "execution_count": 53,
     "metadata": {},
     "output_type": "execute_result"
    }
   ],
   "source": [
    "dummy_df.sort_values(\"Month_Expense\")"
   ]
  },
  {
   "cell_type": "code",
   "execution_count": 54,
   "id": "73727697-3e85-4123-97fc-75caab2949aa",
   "metadata": {},
   "outputs": [],
   "source": [
    "dress = [\n",
    "    {\n",
    "        \"gender\": \"Male\",\n",
    "        \"dress_1\": \"Pant\",\n",
    "        \"dress_2\": \"Shirt\",\n",
    "        \"dress_3\": \"Lungi\"\n",
    "    },\n",
    "    {\n",
    "        \"gender\": \"Female\",\n",
    "        \"dress_1\": \"Shirt\",\n",
    "        \"dress_2\": \"pant\",\n",
    "    }\n",
    "]\n",
    "\n",
    "dress_df = pd.DataFrame(dress)"
   ]
  },
  {
   "cell_type": "code",
   "execution_count": 55,
   "id": "a99ed5e6-3902-42d0-a1ee-132c5ded3362",
   "metadata": {},
   "outputs": [
    {
     "data": {
      "text/html": [
       "<div>\n",
       "<style scoped>\n",
       "    .dataframe tbody tr th:only-of-type {\n",
       "        vertical-align: middle;\n",
       "    }\n",
       "\n",
       "    .dataframe tbody tr th {\n",
       "        vertical-align: top;\n",
       "    }\n",
       "\n",
       "    .dataframe thead th {\n",
       "        text-align: right;\n",
       "    }\n",
       "</style>\n",
       "<table border=\"1\" class=\"dataframe\">\n",
       "  <thead>\n",
       "    <tr style=\"text-align: right;\">\n",
       "      <th></th>\n",
       "      <th>gender</th>\n",
       "      <th>dress_1</th>\n",
       "      <th>dress_2</th>\n",
       "      <th>dress_3</th>\n",
       "    </tr>\n",
       "  </thead>\n",
       "  <tbody>\n",
       "    <tr>\n",
       "      <th>0</th>\n",
       "      <td>Male</td>\n",
       "      <td>Pant</td>\n",
       "      <td>Shirt</td>\n",
       "      <td>Lungi</td>\n",
       "    </tr>\n",
       "    <tr>\n",
       "      <th>1</th>\n",
       "      <td>Female</td>\n",
       "      <td>Shirt</td>\n",
       "      <td>pant</td>\n",
       "      <td>NaN</td>\n",
       "    </tr>\n",
       "  </tbody>\n",
       "</table>\n",
       "</div>"
      ],
      "text/plain": [
       "   gender dress_1 dress_2 dress_3\n",
       "0    Male    Pant   Shirt   Lungi\n",
       "1  Female   Shirt    pant     NaN"
      ]
     },
     "execution_count": 55,
     "metadata": {},
     "output_type": "execute_result"
    }
   ],
   "source": [
    "dress_df"
   ]
  },
  {
   "cell_type": "code",
   "execution_count": 56,
   "id": "b0395207-bdef-4bea-b459-9afe9dfc3ab3",
   "metadata": {},
   "outputs": [],
   "source": [
    "merged = dummy_df.merge(dress_df, on=\"gender\", how=\"left\")"
   ]
  },
  {
   "cell_type": "code",
   "execution_count": 57,
   "id": "54ef0750-975b-4f82-a500-cb0d6fbb2d80",
   "metadata": {},
   "outputs": [
    {
     "data": {
      "text/html": [
       "<div>\n",
       "<style scoped>\n",
       "    .dataframe tbody tr th:only-of-type {\n",
       "        vertical-align: middle;\n",
       "    }\n",
       "\n",
       "    .dataframe tbody tr th {\n",
       "        vertical-align: top;\n",
       "    }\n",
       "\n",
       "    .dataframe thead th {\n",
       "        text-align: right;\n",
       "    }\n",
       "</style>\n",
       "<table border=\"1\" class=\"dataframe\">\n",
       "  <thead>\n",
       "    <tr style=\"text-align: right;\">\n",
       "      <th></th>\n",
       "      <th>name</th>\n",
       "      <th>Role</th>\n",
       "      <th>gender</th>\n",
       "      <th>Month_Expense</th>\n",
       "      <th>dress</th>\n",
       "      <th>dress_expense</th>\n",
       "      <th>dress_1</th>\n",
       "      <th>dress_2</th>\n",
       "      <th>dress_3</th>\n",
       "    </tr>\n",
       "  </thead>\n",
       "  <tbody>\n",
       "    <tr>\n",
       "      <th>0</th>\n",
       "      <td>Basit</td>\n",
       "      <td>Student</td>\n",
       "      <td>Male</td>\n",
       "      <td>5000</td>\n",
       "      <td>0.0</td>\n",
       "      <td>0.0</td>\n",
       "      <td>Pant</td>\n",
       "      <td>Shirt</td>\n",
       "      <td>Lungi</td>\n",
       "    </tr>\n",
       "    <tr>\n",
       "      <th>1</th>\n",
       "      <td>Shakil</td>\n",
       "      <td>Private_Service</td>\n",
       "      <td>Male</td>\n",
       "      <td>30000</td>\n",
       "      <td>5.0</td>\n",
       "      <td>7500.0</td>\n",
       "      <td>Pant</td>\n",
       "      <td>Shirt</td>\n",
       "      <td>Lungi</td>\n",
       "    </tr>\n",
       "    <tr>\n",
       "      <th>2</th>\n",
       "      <td>Rohima_Female</td>\n",
       "      <td>Student</td>\n",
       "      <td>Female</td>\n",
       "      <td>5000</td>\n",
       "      <td>3.0</td>\n",
       "      <td>4500.0</td>\n",
       "      <td>Shirt</td>\n",
       "      <td>pant</td>\n",
       "      <td>NaN</td>\n",
       "    </tr>\n",
       "  </tbody>\n",
       "</table>\n",
       "</div>"
      ],
      "text/plain": [
       "            name             Role  gender  Month_Expense  dress  \\\n",
       "0          Basit          Student    Male           5000    0.0   \n",
       "1         Shakil  Private_Service    Male          30000    5.0   \n",
       "2  Rohima_Female          Student  Female           5000    3.0   \n",
       "\n",
       "   dress_expense dress_1 dress_2 dress_3  \n",
       "0            0.0    Pant   Shirt   Lungi  \n",
       "1         7500.0    Pant   Shirt   Lungi  \n",
       "2         4500.0   Shirt    pant     NaN  "
      ]
     },
     "execution_count": 57,
     "metadata": {},
     "output_type": "execute_result"
    }
   ],
   "source": [
    "merged"
   ]
  },
  {
   "cell_type": "code",
   "execution_count": 58,
   "id": "18635b3a-518c-4748-805d-625f2f85d8c8",
   "metadata": {},
   "outputs": [],
   "source": [
    "grouped = merged.groupby(\"Role\")"
   ]
  },
  {
   "cell_type": "code",
   "execution_count": 59,
   "id": "94c88731-0004-48d3-8fc3-1e84db0975e0",
   "metadata": {},
   "outputs": [
    {
     "data": {
      "text/html": [
       "<div>\n",
       "<style scoped>\n",
       "    .dataframe tbody tr th:only-of-type {\n",
       "        vertical-align: middle;\n",
       "    }\n",
       "\n",
       "    .dataframe tbody tr th {\n",
       "        vertical-align: top;\n",
       "    }\n",
       "\n",
       "    .dataframe thead th {\n",
       "        text-align: right;\n",
       "    }\n",
       "</style>\n",
       "<table border=\"1\" class=\"dataframe\">\n",
       "  <thead>\n",
       "    <tr style=\"text-align: right;\">\n",
       "      <th></th>\n",
       "      <th>name</th>\n",
       "      <th>Role</th>\n",
       "      <th>gender</th>\n",
       "      <th>Month_Expense</th>\n",
       "      <th>dress</th>\n",
       "      <th>dress_expense</th>\n",
       "      <th>dress_1</th>\n",
       "      <th>dress_2</th>\n",
       "      <th>dress_3</th>\n",
       "    </tr>\n",
       "  </thead>\n",
       "  <tbody>\n",
       "    <tr>\n",
       "      <th>1</th>\n",
       "      <td>Shakil</td>\n",
       "      <td>Private_Service</td>\n",
       "      <td>Male</td>\n",
       "      <td>30000</td>\n",
       "      <td>5.0</td>\n",
       "      <td>7500.0</td>\n",
       "      <td>Pant</td>\n",
       "      <td>Shirt</td>\n",
       "      <td>Lungi</td>\n",
       "    </tr>\n",
       "  </tbody>\n",
       "</table>\n",
       "</div>"
      ],
      "text/plain": [
       "     name             Role gender  Month_Expense  dress  dress_expense  \\\n",
       "1  Shakil  Private_Service   Male          30000    5.0         7500.0   \n",
       "\n",
       "  dress_1 dress_2 dress_3  \n",
       "1    Pant   Shirt   Lungi  "
      ]
     },
     "metadata": {},
     "output_type": "display_data"
    },
    {
     "data": {
      "text/html": [
       "<div>\n",
       "<style scoped>\n",
       "    .dataframe tbody tr th:only-of-type {\n",
       "        vertical-align: middle;\n",
       "    }\n",
       "\n",
       "    .dataframe tbody tr th {\n",
       "        vertical-align: top;\n",
       "    }\n",
       "\n",
       "    .dataframe thead th {\n",
       "        text-align: right;\n",
       "    }\n",
       "</style>\n",
       "<table border=\"1\" class=\"dataframe\">\n",
       "  <thead>\n",
       "    <tr style=\"text-align: right;\">\n",
       "      <th></th>\n",
       "      <th>name</th>\n",
       "      <th>Role</th>\n",
       "      <th>gender</th>\n",
       "      <th>Month_Expense</th>\n",
       "      <th>dress</th>\n",
       "      <th>dress_expense</th>\n",
       "      <th>dress_1</th>\n",
       "      <th>dress_2</th>\n",
       "      <th>dress_3</th>\n",
       "    </tr>\n",
       "  </thead>\n",
       "  <tbody>\n",
       "    <tr>\n",
       "      <th>0</th>\n",
       "      <td>Basit</td>\n",
       "      <td>Student</td>\n",
       "      <td>Male</td>\n",
       "      <td>5000</td>\n",
       "      <td>0.0</td>\n",
       "      <td>0.0</td>\n",
       "      <td>Pant</td>\n",
       "      <td>Shirt</td>\n",
       "      <td>Lungi</td>\n",
       "    </tr>\n",
       "    <tr>\n",
       "      <th>2</th>\n",
       "      <td>Rohima_Female</td>\n",
       "      <td>Student</td>\n",
       "      <td>Female</td>\n",
       "      <td>5000</td>\n",
       "      <td>3.0</td>\n",
       "      <td>4500.0</td>\n",
       "      <td>Shirt</td>\n",
       "      <td>pant</td>\n",
       "      <td>NaN</td>\n",
       "    </tr>\n",
       "  </tbody>\n",
       "</table>\n",
       "</div>"
      ],
      "text/plain": [
       "            name     Role  gender  Month_Expense  dress  dress_expense  \\\n",
       "0          Basit  Student    Male           5000    0.0            0.0   \n",
       "2  Rohima_Female  Student  Female           5000    3.0         4500.0   \n",
       "\n",
       "  dress_1 dress_2 dress_3  \n",
       "0    Pant   Shirt   Lungi  \n",
       "2   Shirt    pant     NaN  "
      ]
     },
     "metadata": {},
     "output_type": "display_data"
    }
   ],
   "source": [
    "for index, group in grouped:\n",
    "    display(group)"
   ]
  },
  {
   "cell_type": "code",
   "execution_count": 60,
   "id": "7736e5b6-c9c3-4980-aeff-d5fb3f14af3f",
   "metadata": {},
   "outputs": [
    {
     "data": {
      "text/plain": [
       "(3, 9)"
      ]
     },
     "execution_count": 60,
     "metadata": {},
     "output_type": "execute_result"
    }
   ],
   "source": [
    "merged.shape"
   ]
  },
  {
   "cell_type": "code",
   "execution_count": 61,
   "id": "e770d2a5-05ce-4850-982c-af64a32d3507",
   "metadata": {},
   "outputs": [
    {
     "name": "stdout",
     "output_type": "stream",
     "text": [
      "<class 'pandas.core.frame.DataFrame'>\n",
      "RangeIndex: 3 entries, 0 to 2\n",
      "Data columns (total 9 columns):\n",
      " #   Column         Non-Null Count  Dtype  \n",
      "---  ------         --------------  -----  \n",
      " 0   name           3 non-null      object \n",
      " 1   Role           3 non-null      object \n",
      " 2   gender         3 non-null      object \n",
      " 3   Month_Expense  3 non-null      int64  \n",
      " 4   dress          3 non-null      float64\n",
      " 5   dress_expense  3 non-null      float64\n",
      " 6   dress_1        3 non-null      object \n",
      " 7   dress_2        3 non-null      object \n",
      " 8   dress_3        2 non-null      object \n",
      "dtypes: float64(2), int64(1), object(6)\n",
      "memory usage: 348.0+ bytes\n"
     ]
    }
   ],
   "source": [
    "merged.info()"
   ]
  },
  {
   "cell_type": "code",
   "execution_count": null,
   "id": "d0a1e991-b9f6-47a5-8f67-6caefe374744",
   "metadata": {},
   "outputs": [],
   "source": []
  }
 ],
 "metadata": {
  "kernelspec": {
   "display_name": "Python 3 (ipykernel)",
   "language": "python",
   "name": "python3"
  },
  "language_info": {
   "codemirror_mode": {
    "name": "ipython",
    "version": 3
   },
   "file_extension": ".py",
   "mimetype": "text/x-python",
   "name": "python",
   "nbconvert_exporter": "python",
   "pygments_lexer": "ipython3",
   "version": "3.12.2"
  }
 },
 "nbformat": 4,
 "nbformat_minor": 5
}
